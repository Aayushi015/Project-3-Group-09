{
 "cells": [
  {
   "cell_type": "code",
   "execution_count": 1,
   "id": "15ca9c95-03da-4c8c-bbd9-5bea15c81182",
   "metadata": {},
   "outputs": [],
   "source": [
    "import sqlite3\n",
    "import pandas as pd\n",
    "\n",
    "DATA_FILE_PATH = \"../data/clean_data.csv\""
   ]
  },
  {
   "cell_type": "code",
   "execution_count": 3,
   "id": "f6d8f510-bd35-4501-b725-bd71d939e755",
   "metadata": {},
   "outputs": [],
   "source": [
    "conn = sqlite3.connect(\"usa_pollution.db\")\n",
    "df = pd.read_csv(DATA_FILE_PATH)"
   ]
  },
  {
   "cell_type": "code",
   "execution_count": 5,
   "id": "d9375122-98fe-4cc4-98e0-236390678159",
   "metadata": {},
   "outputs": [
    {
     "name": "stdout",
     "output_type": "stream",
     "text": [
      "      id       State        County           City   Latitude   Longitude\n",
      "0      1     Arizona      Maricopa        Phoenix  33.448437 -112.074141\n",
      "1      2     Arizona      Maricopa     Scottsdale  33.494219 -111.926018\n",
      "2      3     Arizona          Pima         Tucson  32.222876 -110.974847\n",
      "3      4  California  Contra Costa        Concord  37.976852 -122.033562\n",
      "4      5  California  Contra Costa  Bethel Island  38.029034 -121.640009\n",
      "..   ...         ...           ...            ...        ...         ...\n",
      "147  148      Nevada         Clark  Sunrise Manor  36.197298 -115.045292\n",
      "148  149        Utah     Salt Lake        Midvale  40.614917 -111.910661\n",
      "149  150     Florida       Broward          Davie  26.062866  -80.233104\n",
      "150  151   Tennessee        Shelby        Memphis  35.146025  -90.051764\n",
      "151  152     Wyoming       Laramie       Cheyenne  41.139981 -104.820246\n",
      "\n",
      "[152 rows x 6 columns]\n"
     ]
    }
   ],
   "source": [
    "cursor = conn.cursor()\n",
    "\n",
    "location_columns = [\"State\", \"County\", \"City\", \"Latitude\", \"Longitude\"]\n",
    "locations_df = df[location_columns].drop_duplicates().reset_index(drop=True)\n",
    "\n",
    "locations_df.to_sql(\"locations\", conn, if_exists=\"append\", index=False)\n",
    "\n",
    "location_query = \"SELECT id, state, county, city, latitude, longitude FROM locations\"\n",
    "location_df = pd.read_sql(location_query, conn)\n",
    "\n",
    "location_df.columns = ['id',\"State\", \"County\", \"City\", \"Latitude\", \"Longitude\"]\n",
    "\n",
    "df = df.merge(location_df, on=[\"State\", \"County\", \"City\", \"Latitude\", \"Longitude\"], how=\"left\")\n",
    "df.rename(columns={\"id\": \"location\"}, inplace=True)\n",
    "\n",
    "pollutant_columns = [\n",
    "    \"O3 Mean\", \"O3 1st Max Value\", \"O3 1st Max Hour\", \"O3 AQI\",\n",
    "    \"CO Mean\", \"CO 1st Max Value\", \"CO 1st Max Hour\", \"CO AQI\",\n",
    "    \"SO2 Mean\", \"SO2 1st Max Value\", \"SO2 1st Max Hour\", \"SO2 AQI\",\n",
    "    \"NO2 Mean\", \"NO2 1st Max Value\", \"NO2 1st Max Hour\", \"NO2 AQI\",\n",
    "    \"Year\", \"Month\", \"Day\", \"location\"\n",
    "]\n",
    "\n",
    "pollutants_df = df[pollutant_columns]\n",
    "\n",
    "pollutants_df.columns = [\n",
    "    \"o3_mean\", \"o3_max_value\", \"o3_first_max_hour\", \"o3_aqi\",\n",
    "    \"co_mean\", \"co_max_value\", \"co_first_max_hour\", \"co_aqi\",\n",
    "    \"so2_mean\", \"so2_max_value\", \"so2_first_max_hour\", \"so2_aqi\",\n",
    "    \"no2_mean\", \"no2_max_value\", \"no2_first_max_hour\", \"no2_aqi\",\n",
    "    \"year\", \"month\", \"day\", \"location\"\n",
    "]\n",
    "\n",
    "pollutants_df.to_sql(\"pollutants\", conn, if_exists=\"append\", index=False)\n",
    "\n",
    "conn.close()"
   ]
  }
 ],
 "metadata": {
  "kernelspec": {
   "display_name": "Python 3 (ipykernel)",
   "language": "python",
   "name": "python3"
  },
  "language_info": {
   "codemirror_mode": {
    "name": "ipython",
    "version": 3
   },
   "file_extension": ".py",
   "mimetype": "text/x-python",
   "name": "python",
   "nbconvert_exporter": "python",
   "pygments_lexer": "ipython3",
   "version": "3.12.4"
  }
 },
 "nbformat": 4,
 "nbformat_minor": 5
}
