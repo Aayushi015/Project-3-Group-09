{
 "cells": [
  {
   "cell_type": "code",
   "execution_count": 9,
   "id": "aded8c41-14e5-489a-87eb-db4482675eb9",
   "metadata": {},
   "outputs": [],
   "source": [
    "import sqlite3"
   ]
  },
  {
   "cell_type": "code",
   "execution_count": 11,
   "id": "538658d9-a3eb-4fc6-8c30-2234d56ec627",
   "metadata": {},
   "outputs": [],
   "source": [
    "conn = sqlite3.connect(\"usa_pollution.db\") "
   ]
  },
  {
   "cell_type": "code",
   "execution_count": 17,
   "id": "69aed520-d18e-4d89-8046-4c372c3869ef",
   "metadata": {},
   "outputs": [],
   "source": [
    "cursor = conn.cursor()\n",
    "\n",
    "# Create locations table\n",
    "cursor.execute('''\n",
    "    CREATE TABLE IF NOT EXISTS locations (\n",
    "        id INTEGER PRIMARY KEY AUTOINCREMENT,\n",
    "        state TEXT NOT NULL,\n",
    "        county TEXT NOT NULL,\n",
    "        city TEXT NOT NULL,\n",
    "        latitude REAL NOT NULL,\n",
    "        longitude REAL NOT NULL\n",
    "    )\n",
    "''')\n",
    "\n",
    "# Create pollutants table\n",
    "cursor.execute('''\n",
    "    CREATE TABLE IF NOT EXISTS pollutants (\n",
    "        id INTEGER PRIMARY KEY AUTOINCREMENT,\n",
    "        location INTEGER NOT NULL,\n",
    "        year INTEGER NOT NULL,\n",
    "        month INTEGER NOT NULL,\n",
    "        day INTEGER NOT NULL,\n",
    "        o3_mean REAL,\n",
    "        o3_max_value REAL,\n",
    "        o3_first_max_hour REAL,\n",
    "        o3_aqi REAL,\n",
    "        co_mean REAL,\n",
    "        co_max_value REAL,\n",
    "        co_first_max_hour REAL,\n",
    "        co_aqi REAL,\n",
    "        so2_mean REAL,\n",
    "        so2_max_value REAL,\n",
    "        so2_first_max_hour REAL,\n",
    "        so2_aqi REAL,\n",
    "        no2_mean REAL,\n",
    "        no2_max_value REAL,\n",
    "        no2_first_max_hour REAL,\n",
    "        no2_aqi REAL,\n",
    "        FOREIGN KEY(location) REFERENCES locations(id)\n",
    "    )\n",
    "''')\n",
    "\n",
    "conn.commit()\n",
    "conn.close()"
   ]
  }
 ],
 "metadata": {
  "kernelspec": {
   "display_name": "Python 3 (ipykernel)",
   "language": "python",
   "name": "python3"
  },
  "language_info": {
   "codemirror_mode": {
    "name": "ipython",
    "version": 3
   },
   "file_extension": ".py",
   "mimetype": "text/x-python",
   "name": "python",
   "nbconvert_exporter": "python",
   "pygments_lexer": "ipython3",
   "version": "3.12.4"
  }
 },
 "nbformat": 4,
 "nbformat_minor": 5
}
